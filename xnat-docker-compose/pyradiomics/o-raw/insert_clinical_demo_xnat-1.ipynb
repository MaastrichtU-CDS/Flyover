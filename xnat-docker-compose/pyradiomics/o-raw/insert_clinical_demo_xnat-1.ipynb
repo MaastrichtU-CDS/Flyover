{
 "cells": [
  {
   "cell_type": "markdown",
   "id": "0fcc84f5",
   "metadata": {},
   "source": [
    "# Demo - inserting lines of clinical data into xnat for archival"
   ]
  },
  {
   "cell_type": "raw",
   "id": "5ea30128",
   "metadata": {},
   "source": [
    "The demo data consists of the following elements, and are in 3 CSV fragments in the ./data folder.\n",
    "\n",
    "PatientID,age,clinical.T.Stage,Clinical.N.Stage,Clinical.M.Stage,Overall.Stage,Histology,gender,Survival.time,deadstatus.event\n",
    "LUNG1-001,78.7515,2,3,0,IIIb,large cell,male,2165,1\n",
    "LUNG1-002,83.8001,2,0,0,I,squamous cell carcinoma,male,155,1\n",
    "LUNG1-003,68.1807,2,3,0,IIIb,large cell,male,256,1"
   ]
  },
  {
   "cell_type": "markdown",
   "id": "df2d2522",
   "metadata": {},
   "source": [
    "### import necessary components"
   ]
  },
  {
   "cell_type": "code",
   "execution_count": null,
   "id": "2ab3ecee",
   "metadata": {
    "scrolled": true
   },
   "outputs": [],
   "source": [
    "#ORAW modifications and integrations with XNAT by Leonard Wee during Oct -> Dec 2021\n",
    "from __future__ import print_function\n",
    "from datetime import date, datetime\n",
    "import os, glob\n",
    "\n",
    "import xnat #needed for reading and writing to/from XNAT"
   ]
  },
  {
   "cell_type": "markdown",
   "id": "c83d00c2",
   "metadata": {},
   "source": [
    "### define needed operations"
   ]
  },
  {
   "cell_type": "code",
   "execution_count": null,
   "id": "46392327",
   "metadata": {},
   "outputs": [],
   "source": [
    "def upload_file(session, project, subject, experiment, assessment, resource, convfile):\n",
    "    xnat_project = session.projects[project]\n",
    "    xnat_subject = xnat_project.subjects[subject]\n",
    "    xnat_experiment = xnat_project.experiments[experiment]\n",
    "    xnat_resource = session.classes.ResourceCatalog(parent=xnat_experiment, label=resource)\n",
    "    #xnat_assessment = session.classes.QcAssessmentData(parent=xnat_experiment, label=assessment) #not used\n",
    "    #xnat_resource = session.classes.ResourceCatalog(parent=xnat_assessment, label=resource) #resource under experiment instead\n",
    "    xnat_resource.upload(convfile, os.path.basename(convfile)) # upload\n",
    "#    for file_ in data:\n",
    "#        resource.upload(file_, os.path.basename(file_))\n",
    "#    pass\n",
    "\n",
    "\n",
    "def cleanup_temp_folder(dirt):\n",
    "    if os.path.exists(dirt):\n",
    "        shutil.rmtree(dirt)\n",
    "        os.makedirs(dirt)\n",
    "    if not os.path.exists(dirt):\n",
    "        os.makedirs(dirt)"
   ]
  },
  {
   "cell_type": "markdown",
   "id": "5b55a474",
   "metadata": {},
   "source": [
    "### configure user-dependent settings"
   ]
  },
  {
   "cell_type": "raw",
   "id": "0cca9d3e",
   "metadata": {},
   "source": [
    "- check the url using docker network inspect on the package defaul network, find the web application nginx\n",
    "- the procedure is as follows :\n",
    "- \"docker network ls\" on the command line\n",
    "- find your docker network bridge running all the xnat and python images, eg xnat-docker-compose-master_default\n",
    "- copy the network id on the left hand side\n",
    "- \"docker network inspect [the network id from above]\" on the same command line\n",
    "- scroll down a little and find the docker IP network address of the nginx gateway\n",
    "- record that docker IP address for the step below"
   ]
  },
  {
   "cell_type": "code",
   "execution_count": null,
   "id": "8b7612a8",
   "metadata": {},
   "outputs": [],
   "source": [
    "#------------------------- USER SETTINGS -------------------------------\n",
    "\n",
    "# set up XNAT login credentials here\n",
    "# .......................\n",
    "#xnatUrl = 'https://xnat.bmia.nl'\n",
    "#xnatUser = 'leonardwee'\n",
    "xnatUrl = 'http://xnat-nginx:80'  #change me! e.g. 'http://localhost:8081/'\n",
    "xnatUser = 'admin'  #change me!\n",
    "xnatPass = 'admin'  #change me!\n",
    "xnatProject = 'flyover-05'  #change me"
   ]
  },
  {
   "cell_type": "markdown",
   "id": "36196b4a",
   "metadata": {
    "tags": []
   },
   "source": [
    "### retrieve list of patients and dicom experiments from XNAT project"
   ]
  },
  {
   "cell_type": "code",
   "execution_count": null,
   "id": "95ecbd84",
   "metadata": {
    "scrolled": true
   },
   "outputs": [],
   "source": [
    "with xnat.connect(xnatUrl, user=xnatUser, password=xnatPass) as session:\n",
    "    myProject= session.projects[xnatProject]\n",
    "    mySubjectsList = myProject.subjects.values()\n",
    "    for s in mySubjectsList:\n",
    "        mySubjectID = s.label\n",
    "        mySubject = myProject.subjects[mySubjectID]\n",
    "        myExperimentsList = mySubject.experiments.values()\n",
    "        for e in myExperimentsList:\n",
    "            myExperimentID = e.label\n",
    "            myExperiment = mySubject.experiments[myExperimentID]\n",
    "            print(xnatProject + \"\\t\" + mySubjectID + \"\\t\" + myExperimentID)"
   ]
  },
  {
   "cell_type": "markdown",
   "id": "695511dd",
   "metadata": {},
   "source": [
    "### uploading structured clinical per subject"
   ]
  },
  {
   "cell_type": "code",
   "execution_count": null,
   "id": "47c65f38-a1d5-4c31-9d7a-33b843d1baac",
   "metadata": {},
   "outputs": [],
   "source": [
    "with xnat.connect(xnatUrl, user=xnatUser, password=xnatPass) as session:\n",
    "    try:\n",
    "        upload_file(session, xnatProject, 'LUNG1-001', 'LUNG1-001', '0', 'lung1-001-clinical', '/home/jovyan/work/data/lung1-001-clinical.csv')\n",
    "        upload_file(session, xnatProject, 'LUNG1-002', 'LUNG1-002', '0', 'lung1-002-clinical', '/home/jovyan/work/data/lung1-002-clinical.csv')\n",
    "        upload_file(session, xnatProject, 'LUNG1-003', 'LUNG1-003', '0', 'lung1-003-clinical', '/home/jovyan/work/data/lung1-003-clinical.csv')\n",
    "    except:\n",
    "        print(\"--- error during demo for inserting clinical data! -----\")"
   ]
  },
  {
   "cell_type": "markdown",
   "id": "722c468b-21b7-4dc7-9c4e-cd30088dd771",
   "metadata": {},
   "source": [
    "### extracting clinical elements and consolidating as single dataframe"
   ]
  },
  {
   "cell_type": "code",
   "execution_count": 7,
   "id": "adcdfa1e-964b-4dd2-b207-26c6f693fd7c",
   "metadata": {},
   "outputs": [
    {
     "name": "stderr",
     "output_type": "stream",
     "text": [
      "[WARNING] Detected a redirect from http://xnat-nginx:80 to http://xnat-nginx/, using http://xnat-nginx/ from now on\n",
      "100% of 179.0 B |##################################| 144.1 KiB/s Time:  0:00:00\n",
      "100% of 188.0 B |##################################| 180.5 KiB/s Time:  0:00:00\n",
      "100% of 178.0 B |##################################| 156.7 KiB/s Time:  0:00:00\n"
     ]
    }
   ],
   "source": [
    "ClinicalWorkingDir = './pre-process-CLINICAL'\n",
    "ClinicalSetLabel = '-clinical'\n",
    "\n",
    "#CAREFUL - empties the following before filling it up from XNAT\n",
    "cleanup_temp_folder(ClinicalWorkingDir)\n",
    "\n",
    "# -----------------------------------------------------------\n",
    "with xnat.connect(xnatUrl, user=xnatUser, password=xnatPass) as session:\n",
    "    myProject = session.projects[xnatProject]\n",
    "    mySubjectsList = myProject.subjects.values()\n",
    "    for s in mySubjectsList:\n",
    "            mySubjectID = s.label\n",
    "            mySubject = myProject.subjects[mySubjectID]\n",
    "            myExperimentsList = mySubject.experiments.values()\n",
    "            for e in myExperimentsList:\n",
    "                myExperimentID = e.label\n",
    "                myExperiment = mySubject.experiments[myExperimentID]\n",
    "                myResourcesList = myExperiment.resources.values()\n",
    "                for r in myResourcesList:\n",
    "                    myResourceID = r.label\n",
    "                    if myResourceID.endswith(ClinicalSetLabel):\n",
    "                        myResource = myExperiment.resources[myResourceID]\n",
    "                        for i in range(len(myResource.files)):\n",
    "                            myFile = myResource.files[i].data['Name']\n",
    "                            myResource.files[i].download(os.path.join(ClinicalWorkingDir,myFile))\n"
   ]
  },
  {
   "cell_type": "code",
   "execution_count": 8,
   "id": "106a5883-8738-483a-9c7d-8d47435b370a",
   "metadata": {},
   "outputs": [],
   "source": [
    "import pandas as pd\n",
    "\n",
    "all_files = glob.glob(ClinicalWorkingDir + \"/*.csv\")\n",
    "li = []\n",
    "for fname in all_files:\n",
    "    try :\n",
    "        df = pd.read_csv(fname, index_col=None, header=0)\n",
    "        li.append(df)\n",
    "    except :\n",
    "        print(\"This did not have the expected data!\")\n",
    "\n",
    "frame = pd.concat(li, axis=0, ignore_index=True)\n",
    "\n",
    "frame.to_csv('./test.csv', index=False) ###change this filename"
   ]
  },
  {
   "cell_type": "code",
   "execution_count": null,
   "id": "94b51a54-a8db-4b40-aed4-f22cded03050",
   "metadata": {},
   "outputs": [],
   "source": []
  }
 ],
 "metadata": {
  "kernelspec": {
   "display_name": "Python 3 (ipykernel)",
   "language": "python",
   "name": "python3"
  },
  "language_info": {
   "codemirror_mode": {
    "name": "ipython",
    "version": 3
   },
   "file_extension": ".py",
   "mimetype": "text/x-python",
   "name": "python",
   "nbconvert_exporter": "python",
   "pygments_lexer": "ipython3",
   "version": "3.10.6"
  }
 },
 "nbformat": 4,
 "nbformat_minor": 5
}
