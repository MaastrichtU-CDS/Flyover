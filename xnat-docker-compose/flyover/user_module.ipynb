{
 "cells": [
  {
   "cell_type": "code",
   "execution_count": null,
   "id": "44f76ede",
   "metadata": {
    "scrolled": true
   },
   "outputs": [],
   "source": [
    "## run this script to process your clinical CSV files and annotate them\n",
    "\n",
    "import subprocess\n",
    "\n",
    "subprocess.call(['python3', 'data_descriptor_Structured.py'])\n"
   ]
  }
 ],
 "metadata": {
  "kernelspec": {
   "display_name": "Python 3 (ipykernel)",
   "language": "python",
   "name": "python3"
  },
  "language_info": {
   "codemirror_mode": {
    "name": "ipython",
    "version": 3
   },
   "file_extension": ".py",
   "mimetype": "text/x-python",
   "name": "python",
   "nbconvert_exporter": "python",
   "pygments_lexer": "ipython3",
   "version": "3.10.6"
  }
 },
 "nbformat": 4,
 "nbformat_minor": 5
}
