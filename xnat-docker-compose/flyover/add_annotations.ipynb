{
 "cells": [
  {
   "cell_type": "code",
   "execution_count": null,
   "id": "9f872777-1173-48aa-9aa2-4f02b42f011a",
   "metadata": {},
   "outputs": [],
   "source": [
    "## run this script to add annotations for your radiomics CSV files\n",
    "\n",
    "import subprocess\n",
    "\n",
    "subprocess.call(['python3', 'pyradiomics_mapping/annotations_rad.py'])"
   ]
  },
  {
   "cell_type": "code",
   "execution_count": null,
   "id": "e27c3f31-d738-45e7-849b-3ac52f973938",
   "metadata": {},
   "outputs": [],
   "source": [
    "## run this script to add annotations to your clinical data. Make sure the annotations_clin.py file is built as per your clinical data\n",
    "\n",
    "import subprocess\n",
    "\n",
    "subprocess.call(['python3', 'clinical_data_mapping_and_reformat_schema/annotations_clin.py'])"
   ]
  },
  {
   "cell_type": "code",
   "execution_count": null,
   "id": "a97b2b33-2e17-418a-b7ba-efc86993c233",
   "metadata": {},
   "outputs": [],
   "source": [
    "## run this script to update the schema and merge the clinical, dicom and radiomics graph together. Note: This will only work if your graphdb already has annotations_rad and annotations_clin graphs added.\n",
    "\n",
    "import subprocess\n",
    "\n",
    "subprocess.call(['python3', 'clinical_data_mapping_and_reformat_schema/schema_updated.py'])\n"
   ]
  },
  {
   "cell_type": "code",
   "execution_count": null,
   "outputs": [],
   "source": [
    "## run this script to annotate GTV primary and node. Note: This will only work if all the above steps are completed.\n",
    "\n",
    "import subprocess\n",
    "\n",
    "subprocess.call(['python3', 'DICOM_ROI_reader.py'])\n"
   ],
   "metadata": {
    "collapsed": false
   }
  }
 ],
 "metadata": {
  "kernelspec": {
   "display_name": "Python 3 (ipykernel)",
   "language": "python",
   "name": "python3"
  },
  "language_info": {
   "codemirror_mode": {
    "name": "ipython",
    "version": 3
   },
   "file_extension": ".py",
   "mimetype": "text/x-python",
   "name": "python",
   "nbconvert_exporter": "python",
   "pygments_lexer": "ipython3",
   "version": "3.10.6"
  }
 },
 "nbformat": 4,
 "nbformat_minor": 5
}
